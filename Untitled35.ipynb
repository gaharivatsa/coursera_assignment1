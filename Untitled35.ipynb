{
 "cells": [
  {
   "cell_type": "markdown",
   "id": "df242353",
   "metadata": {},
   "source": [
    "Tools for Data Science"
   ]
  },
  {
   "cell_type": "markdown",
   "id": "c1805835",
   "metadata": {},
   "source": [
    "understanding some fundamental aspects of data science, including the various tools, libraries, and languages used"
   ]
  },
  {
   "cell_type": "markdown",
   "id": "761136ec",
   "metadata": {},
   "source": [
    "# Data Science Languages\n",
    "- Python\n",
    "- R\n",
    "- SQL\n",
    "- Julia\n",
    "- Scala\n"
   ]
  },
  {
   "cell_type": "markdown",
   "id": "d0e3d514",
   "metadata": {},
   "source": [
    "# Data Science Libraries\n",
    "- Pandas\n",
    "- Numpy\n",
    "- Scikit-learn\n",
    "- TensorFlow\n",
    "- Keras\n",
    "- Matplotlib\n",
    "- Seaborn\n"
   ]
  },
  {
   "cell_type": "markdown",
   "id": "86d8f405",
   "metadata": {},
   "source": [
    "## Data Science Tools\n",
    "\n",
    "| Tool Name      | Use Case                              |\n",
    "| -------------- | -------------------------------------- |\n",
    "| Jupyter        | Interactive data exploration           |\n",
    "| RStudio        | R Scripting & Analysis                 |\n",
    "| Tableau        | Data Visualization                     |\n",
    "| PowerBI        | Business Analytics                     |\n",
    "| SQL Workbench  | SQL Database Interactions              |\n"
   ]
  },
  {
   "cell_type": "markdown",
   "id": "24b92e79",
   "metadata": {},
   "source": [
    "## Arithmetic Expressions in Python\n",
    "Python supports various arithmetic operations such as addition, subtraction, multiplication, and division. In the next code cell, we'll see some examples.\n"
   ]
  },
  {
   "cell_type": "code",
   "execution_count": 4,
   "id": "279884b9",
   "metadata": {},
   "outputs": [
    {
     "data": {
      "text/plain": [
       "(50, 15)"
      ]
     },
     "execution_count": 4,
     "metadata": {},
     "output_type": "execute_result"
    }
   ],
   "source": [
    "a = 5\n",
    "b = 10\n",
    "result_multiply = a * b\n",
    "result_add = a + b\n",
    "result_multiply, result_add"
   ]
  },
  {
   "cell_type": "code",
   "execution_count": 5,
   "id": "3faa7d8d",
   "metadata": {},
   "outputs": [
    {
     "data": {
      "text/plain": [
       "2.0"
      ]
     },
     "execution_count": 5,
     "metadata": {},
     "output_type": "execute_result"
    }
   ],
   "source": [
    "minutes = 120\n",
    "hours = minutes / 60\n",
    "hours"
   ]
  },
  {
   "cell_type": "markdown",
   "id": "f345aed2",
   "metadata": {},
   "source": [
    "## Objectives\n",
    "- Understand fundamental data science concepts.\n",
    "- Get familiar with common tools and libraries.\n",
    "- Practice basic Python arithmetic operations.\n",
    "- Share and present the notebook.\n"
   ]
  },
  {
   "cell_type": "markdown",
   "id": "a6a97fb5",
   "metadata": {},
   "source": [
    "## Author\n",
    "Harivatsa\n"
   ]
  },
  {
   "cell_type": "code",
   "execution_count": null,
   "id": "812a6d95",
   "metadata": {},
   "outputs": [],
   "source": []
  }
 ],
 "metadata": {
  "kernelspec": {
   "display_name": "Python 3 (ipykernel)",
   "language": "python",
   "name": "python3"
  },
  "language_info": {
   "codemirror_mode": {
    "name": "ipython",
    "version": 3
   },
   "file_extension": ".py",
   "mimetype": "text/x-python",
   "name": "python",
   "nbconvert_exporter": "python",
   "pygments_lexer": "ipython3",
   "version": "3.8.12"
  }
 },
 "nbformat": 4,
 "nbformat_minor": 5
}
